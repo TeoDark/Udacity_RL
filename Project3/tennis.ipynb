{
 "cells": [
  {
   "cell_type": "markdown",
   "metadata": {},
   "source": [
    "# Collaboration and Competition\n",
    "\n",
    "---\n",
    "\n",
    "In this notebook, you will learn how to use the Unity ML-Agents environment for the third project of the [Deep Reinforcement Learning Nanodegree](https://www.udacity.com/course/deep-reinforcement-learning-nanodegree--nd893) program.\n",
    "\n",
    "### 1. Start the Environment\n",
    "\n",
    "We begin by importing the necessary packages.  If the code cell below returns an error, please revisit the project instructions to double-check that you have installed [Unity ML-Agents](https://github.com/Unity-Technologies/ml-agents/blob/master/docs/Installation.md) and [NumPy](http://www.numpy.org/)."
   ]
  },
  {
   "cell_type": "code",
   "execution_count": 1,
   "metadata": {},
   "outputs": [],
   "source": [
    "from unityagents import UnityEnvironment\n",
    "import numpy as np"
   ]
  },
  {
   "cell_type": "markdown",
   "metadata": {},
   "source": [
    "Next, we will start the environment!  **_Before running the code cell below_**, change the `file_name` parameter to match the location of the Unity environment that you downloaded.\n",
    "\n",
    "- **Mac**: `\"path/to/Tennis.app\"`\n",
    "- **Windows** (x86): `\"path/to/Tennis_Windows_x86/Tennis.exe\"`\n",
    "- **Windows** (x86_64): `\"path/to/Tennis_Windows_x86_64/Tennis.exe\"`\n",
    "- **Linux** (x86): `\"path/to/Tennis_Linux/Tennis.x86\"`\n",
    "- **Linux** (x86_64): `\"path/to/Tennis_Linux/Tennis.x86_64\"`\n",
    "- **Linux** (x86, headless): `\"path/to/Tennis_Linux_NoVis/Tennis.x86\"`\n",
    "- **Linux** (x86_64, headless): `\"path/to/Tennis_Linux_NoVis/Tennis.x86_64\"`\n",
    "\n",
    "For instance, if you are using a Mac, then you downloaded `Tennis.app`.  If this file is in the same folder as the notebook, then the line below should appear as follows:\n",
    "```\n",
    "env = UnityEnvironment(file_name=\"Tennis.app\")\n",
    "```"
   ]
  },
  {
   "cell_type": "code",
   "execution_count": 2,
   "metadata": {},
   "outputs": [
    {
     "name": "stderr",
     "output_type": "stream",
     "text": [
      "INFO:unityagents:\n",
      "'Academy' started successfully!\n",
      "Unity Academy name: Academy\n",
      "        Number of Brains: 1\n",
      "        Number of External Brains : 1\n",
      "        Lesson number : 0\n",
      "        Reset Parameters :\n",
      "\t\t\n",
      "Unity brain name: TennisBrain\n",
      "        Number of Visual Observations (per agent): 0\n",
      "        Vector Observation space type: continuous\n",
      "        Vector Observation space size (per agent): 8\n",
      "        Number of stacked Vector Observation: 3\n",
      "        Vector Action space type: continuous\n",
      "        Vector Action space size (per agent): 2\n",
      "        Vector Action descriptions: , \n"
     ]
    }
   ],
   "source": [
    "env = UnityEnvironment(file_name=\"tennis_unity_env/Tennis.exe\")"
   ]
  },
  {
   "cell_type": "markdown",
   "metadata": {},
   "source": [
    "Environments contain **_brains_** which are responsible for deciding the actions of their associated agents. Here we check for the first brain available, and set it as the default brain we will be controlling from Python."
   ]
  },
  {
   "cell_type": "code",
   "execution_count": 3,
   "metadata": {},
   "outputs": [],
   "source": [
    "# get the default brain\n",
    "brain_name = env.brain_names[0]\n",
    "brain = env.brains[brain_name]"
   ]
  },
  {
   "cell_type": "markdown",
   "metadata": {},
   "source": [
    "### 2. Examine the State and Action Spaces\n",
    "\n",
    "In this environment, two agents control rackets to bounce a ball over a net. If an agent hits the ball over the net, it receives a reward of +0.1.  If an agent lets a ball hit the ground or hits the ball out of bounds, it receives a reward of -0.01.  Thus, the goal of each agent is to keep the ball in play.\n",
    "\n",
    "The observation space consists of 8 variables corresponding to the position and velocity of the ball and racket. Two continuous actions are available, corresponding to movement toward (or away from) the net, and jumping. \n",
    "\n",
    "Run the code cell below to print some information about the environment."
   ]
  },
  {
   "cell_type": "code",
   "execution_count": 4,
   "metadata": {},
   "outputs": [
    {
     "name": "stdout",
     "output_type": "stream",
     "text": [
      "Number of agents: 2\n",
      "Size of each action: 2\n",
      "There are 2 agents. Each observes a state with length: 24\n",
      "The state for the first agent looks like: [ 0.          0.          0.          0.          0.          0.\n",
      "  0.          0.          0.          0.          0.          0.\n",
      "  0.          0.          0.          0.         -6.65278625 -1.5\n",
      " -0.          0.          6.83172083  6.         -0.          0.        ]\n"
     ]
    }
   ],
   "source": [
    "# reset the environment\n",
    "env_info = env.reset(train_mode=True)[brain_name]\n",
    "\n",
    "# number of agents \n",
    "num_agents = len(env_info.agents)\n",
    "print('Number of agents:', num_agents)\n",
    "\n",
    "# size of each action\n",
    "action_size = brain.vector_action_space_size\n",
    "print('Size of each action:', action_size)\n",
    "\n",
    "# examine the state space \n",
    "states = env_info.vector_observations\n",
    "state_size = states.shape[1]\n",
    "print('There are {} agents. Each observes a state with length: {}'.format(states.shape[0], state_size))\n",
    "print('The state for the first agent looks like:', states[0])"
   ]
  },
  {
   "cell_type": "markdown",
   "metadata": {},
   "source": [
    "### 3. Take Random Actions in the Environment\n",
    "\n",
    "In the next code cell, you will learn how to use the Python API to control the agents and receive feedback from the environment.\n",
    "\n",
    "Once this cell is executed, you will watch the agents' performance, if they select actions at random with each time step.  A window should pop up that allows you to observe the agents.\n",
    "\n",
    "Of course, as part of the project, you'll have to change the code so that the agents are able to use their experiences to gradually choose better actions when interacting with the environment!"
   ]
  },
  {
   "cell_type": "code",
   "execution_count": 5,
   "metadata": {},
   "outputs": [
    {
     "name": "stdout",
     "output_type": "stream",
     "text": [
      "Score (max over agents) from episode 1: 0.0 frames in episode:15 scores per agent: [ 0.   -0.01]\n",
      "Score (max over agents) from episode 2: 0.0 frames in episode:16 scores per agent: [ 0.   -0.01]\n",
      "Score (max over agents) from episode 3: 0.0 frames in episode:15 scores per agent: [ 0.   -0.01]\n",
      "Score (max over agents) from episode 4: 0.0 frames in episode:15 scores per agent: [ 0.   -0.01]\n",
      "Score (max over agents) from episode 5: 0.0 frames in episode:15 scores per agent: [ 0.   -0.01]\n"
     ]
    }
   ],
   "source": [
    "for i in range(1, 6):                                      # play game for 5 episodes\n",
    "    env_info = env.reset(train_mode=False)[brain_name]     # reset the environment    \n",
    "    states = env_info.vector_observations                  # get the current state (for each agent)\n",
    "    scores = np.zeros(num_agents)                          # initialize the score (for each agent)\n",
    "    frames = 1\n",
    "    while True:\n",
    "        actions = np.random.randn(num_agents, action_size) # select an action (for each agent)\n",
    "        actions = np.clip(actions, -1, 1)                  # all actions between -1 and 1\n",
    "        env_info = env.step(actions)[brain_name]           # send all actions to tne environment\n",
    "        next_states = env_info.vector_observations         # get next state (for each agent)\n",
    "        rewards = env_info.rewards                         # get reward (for each agent)\n",
    "        dones = env_info.local_done                        # see if episode finished\n",
    "        scores += env_info.rewards                         # update the score (for each agent)\n",
    "        states = next_states                               # roll over states to next time step\n",
    "        frames += 1\n",
    "        if np.any(dones):                                  # exit loop if episode finished\n",
    "            break\n",
    "    print('Score (max over agents) from episode {}: {} frames in episode:{} scores per agent: {}'.format(i, np.max(scores), frames, scores))"
   ]
  },
  {
   "cell_type": "markdown",
   "metadata": {},
   "source": [
    "When finished, you can close the environment."
   ]
  },
  {
   "cell_type": "code",
   "execution_count": 27,
   "metadata": {},
   "outputs": [
    {
     "data": {
      "text/plain": [
       "array([[-0.23632331, -0.25429059],\n",
       "       [ 0.92757166,  1.71880742]])"
      ]
     },
     "execution_count": 27,
     "metadata": {},
     "output_type": "execute_result"
    }
   ],
   "source": [
    "# env.close() # we are just getting started no need fo closing now\n",
    "np.random.randn(num_agents, action_size) # we generate random 2 action for each agent - so it's 2x2"
   ]
  },
  {
   "cell_type": "code",
   "execution_count": 43,
   "metadata": {},
   "outputs": [
    {
     "data": {
      "text/plain": [
       "array([ 0.        ,  0.        ,  0.        ,  0.        ,  0.        ,\n",
       "        0.        ,  0.        ,  0.        ,  0.        ,  0.        ,\n",
       "        0.        ,  0.        ,  0.        ,  0.        ,  0.        ,\n",
       "        0.        , -6.14030886, -1.5       , -0.        ,  0.        ,\n",
       "       -7.11741829,  5.99607611, -0.        ,  0.        ])"
      ]
     },
     "execution_count": 43,
     "metadata": {},
     "output_type": "execute_result"
    }
   ],
   "source": [
    "next_states[0] # next state for one agent "
   ]
  },
  {
   "cell_type": "markdown",
   "metadata": {},
   "source": [
    "### 4. It's Your Turn!\n",
    "\n",
    "Now it's your turn to train your own agent to solve the environment!  When training the environment, set `train_mode=True`, so that the line for resetting the environment looks like the following:\n",
    "```python\n",
    "env_info = env.reset(train_mode=True)[brain_name]\n",
    "```"
   ]
  },
  {
   "cell_type": "code",
   "execution_count": 71,
   "metadata": {},
   "outputs": [
    {
     "name": "stdout",
     "output_type": "stream",
     "text": [
      "24 inputs 2 actions 2 agents\n"
     ]
    }
   ],
   "source": [
    "input_size = state_size\n",
    "output_size = action_size\n",
    "agent_number = states.shape[0]\n",
    "print(\"{} inputs {} actions {} agents\".format(input_size,output_size,agent_number))\n",
    "\n",
    "hidden_numer = 256"
   ]
  },
  {
   "cell_type": "code",
   "execution_count": 72,
   "metadata": {},
   "outputs": [],
   "source": [
    "import torch\n",
    "from collections import deque\n",
    "device   = torch.device(\"cuda\" if torch.cuda.is_available() else \"cpu\")"
   ]
  },
  {
   "cell_type": "code",
   "execution_count": 73,
   "metadata": {},
   "outputs": [],
   "source": [
    "from collections import deque\n",
    "import random\n",
    "\n",
    "class ReplayBuffer:\n",
    "    def __init__(self, capacity = 100000, sample_batch_size = 1024):\n",
    "        self.capacity = capacity\n",
    "        self.sample_batch_size = sample_batch_size\n",
    "        self.replay_buffer = deque(maxlen=capacity)\n",
    "    \n",
    "    def push(self, state, action, reward, next_state, done):\n",
    "        self.replay_buffer.append((state, action, reward, next_state, done))\n",
    "    \n",
    "    def sample(self):\n",
    "        replay = random.sample(self.replay_buffer, k=self.sample_batch_size)\n",
    "        state, action, reward, next_state, done = map(np.stack, zip(*replay))\n",
    "        #print(state, action, reward, next_state, done)\n",
    "        return state, action, reward, next_state, done\n",
    "    \n",
    "    def __len__(self):\n",
    "        return len(self.replay_buffer)"
   ]
  },
  {
   "cell_type": "code",
   "execution_count": 74,
   "metadata": {},
   "outputs": [],
   "source": [
    "import torch\n",
    "import torch.nn as nn\n",
    "import torch.optim as optim\n",
    "import torch.nn.functional as F\n",
    "from torch.distributions import Normal\n",
    "\n",
    "class ValueNetwork(nn.Module):\n",
    "    def __init__(self, state_dim, hidden_dim, init_w=3e-3):\n",
    "        super(ValueNetwork, self).__init__()\n",
    "        \n",
    "        self.linear1 = nn.Linear(state_dim, hidden_dim)\n",
    "        self.linear2 = nn.Linear(hidden_dim, hidden_dim)\n",
    "        self.linear3 = nn.Linear(hidden_dim, 1)\n",
    "        \n",
    "        self.linear3.weight.data.uniform_(-init_w, init_w)\n",
    "        self.linear3.bias.data.uniform_(-init_w, init_w)\n",
    "        \n",
    "    def forward(self, state):\n",
    "        x = F.relu(self.linear1(state))\n",
    "        x = F.relu(self.linear2(x))\n",
    "        x = self.linear3(x)\n",
    "        return x\n",
    "        \n",
    "class SoftQNetwork(nn.Module):\n",
    "    def __init__(self, num_inputs, num_actions, hidden_size, init_w=3e-3):\n",
    "        super(SoftQNetwork, self).__init__()\n",
    "        \n",
    "        self.linear1 = nn.Linear(num_inputs + num_actions, hidden_size)\n",
    "        self.linear2 = nn.Linear(hidden_size, hidden_size)\n",
    "        self.linear3 = nn.Linear(hidden_size, 1)\n",
    "        \n",
    "        self.linear3.weight.data.uniform_(-init_w, init_w)\n",
    "        self.linear3.bias.data.uniform_(-init_w, init_w)\n",
    "        \n",
    "    def forward(self, state, action):\n",
    "        x = torch.cat([state, action], 1)\n",
    "        x = F.relu(self.linear1(x))\n",
    "        x = F.relu(self.linear2(x))\n",
    "        x = self.linear3(x)\n",
    "        return x\n",
    "\n",
    "class PolicyNetwork(nn.Module):\n",
    "    def __init__(self, num_inputs, num_actions, hidden_size, init_w=3e-3, log_std_min=-20, log_std_max=2):\n",
    "        super(PolicyNetwork, self).__init__()\n",
    "        \n",
    "        self.log_std_min = log_std_min\n",
    "        self.log_std_max = log_std_max\n",
    "        \n",
    "        self.linear1 = nn.Linear(num_inputs, hidden_size)\n",
    "        self.linear2 = nn.Linear(hidden_size, hidden_size)\n",
    "        \n",
    "        self.mean_linear = nn.Linear(hidden_size, num_actions)\n",
    "        self.mean_linear.weight.data.uniform_(-init_w, init_w)\n",
    "        self.mean_linear.bias.data.uniform_(-init_w, init_w)\n",
    "        \n",
    "        self.log_std_linear = nn.Linear(hidden_size, num_actions)\n",
    "        self.log_std_linear.weight.data.uniform_(-init_w, init_w)\n",
    "        self.log_std_linear.bias.data.uniform_(-init_w, init_w)\n",
    "        \n",
    "    def forward(self, state):\n",
    "        x = F.relu(self.linear1(state))\n",
    "        x = F.relu(self.linear2(x))\n",
    "        \n",
    "        mean    = self.mean_linear(x)\n",
    "        log_std = self.log_std_linear(x)\n",
    "        log_std = torch.clamp(log_std, self.log_std_min, self.log_std_max)\n",
    "        \n",
    "        return mean, log_std\n",
    "    \n",
    "    def evaluate(self, state, epsilon=1e-6):\n",
    "        mean, log_std = self.forward(state)\n",
    "        std = log_std.exp()\n",
    "        \n",
    "        normal = Normal(mean, std)\n",
    "        z = normal.sample()\n",
    "        action = torch.tanh(z)\n",
    "        \n",
    "        log_prob = normal.log_prob(z) - torch.log(1 - action.pow(2) + epsilon)\n",
    "        log_prob = log_prob.sum(-1, keepdim=True)\n",
    "        \n",
    "        return action, log_prob, z, mean, log_std\n",
    "        \n",
    "    \n",
    "    def get_action(self, state):\n",
    "        state = torch.FloatTensor(state).unsqueeze(0).to(device)\n",
    "        mean, log_std = self.forward(state)\n",
    "        std = log_std.exp()\n",
    "        \n",
    "        normal = Normal(mean, std)\n",
    "        z      = normal.sample()\n",
    "        action = torch.tanh(z)\n",
    "        \n",
    "        action  = action.detach().cpu().numpy()\n",
    "        return action[0]"
   ]
  },
  {
   "cell_type": "code",
   "execution_count": 75,
   "metadata": {},
   "outputs": [],
   "source": [
    "class Agent():\n",
    "    def __init__(self, state_size, action_size, hidden):\n",
    "        self.value_net        = ValueNetwork(state_size, hidden).to(device)\n",
    "        self.target_value_net = ValueNetwork(state_size, hidden).to(device)\n",
    "        self.soft_q_net = SoftQNetwork(state_size, action_size, hidden).to(device)\n",
    "        self.policy_net = PolicyNetwork(state_size, action_size, hidden).to(device)\n",
    "\n",
    "        self.value_criterion  = nn.MSELoss()\n",
    "        self.soft_q_criterion = nn.MSELoss()\n",
    "        \n",
    "        for target_param, param in zip(self.target_value_net.parameters(), self.value_net.parameters()):\n",
    "            target_param.data.copy_(param.data)\n",
    "\n",
    "        self.value_lr  = 3e-4\n",
    "        self.soft_q_lr = 3e-4\n",
    "        self.policy_lr = 3e-4\n",
    "\n",
    "        self.value_optimizer  = optim.Adam(self.value_net.parameters(), lr=self.value_lr)\n",
    "        self.soft_q_optimizer = optim.Adam(self.soft_q_net.parameters(), lr=self.soft_q_lr)\n",
    "        self.policy_optimizer = optim.Adam(self.policy_net.parameters(), lr=self.policy_lr)\n",
    "\n",
    "        self.replay_buffer = ReplayBuffer()\n",
    "    \n",
    "    def act(self,state):\n",
    "        #if(len(self.replay_buffer)<self.replay_buffer.sample_batch_size/2)\n",
    "            #random\n",
    "        #else:\n",
    "        return self.policy_net.get_action(state)\n",
    "    \n",
    "    def retrieve(self,agent_num, size,squeezed):\n",
    "        return squeezed.index_select(1,torch.tensor([ i for i in range(agent_num * size, agent_num * size + size)]).to(device)) \n",
    "    \n",
    "    def get_other_index(self,index):\n",
    "        return 0 if index == 1 else 1\n",
    "    \n",
    "    def learning_step(self, gamma=0.99, mean_lambda=1e-3, std_lambda=1e-3, z_lambda=0.0, soft_tau=1e-2):\n",
    "        if(len(self.replay_buffer)>=self.replay_buffer.sample_batch_size):\n",
    "            state, action, reward, next_state, done = self.replay_buffer.sample()\n",
    "            \n",
    "            state      = torch.FloatTensor(state).to(device)\n",
    "            next_state = torch.FloatTensor(next_state).to(device)\n",
    "            action     = torch.FloatTensor(action).to(device)\n",
    "            reward     = torch.FloatTensor(reward).unsqueeze(1).to(device)\n",
    "            done       = torch.FloatTensor(np.float32(done)).unsqueeze(1).to(device)\n",
    "            \n",
    "            expected_q_value = self.soft_q_net(state, action)\n",
    "            expected_value   = self.value_net(state)\n",
    "            new_action, log_prob, z, mean, log_std = self.policy_net.evaluate(state)\n",
    "\n",
    "            expected_q_value = self.soft_q_net(state, action)\n",
    "            expected_value   = self.value_net(state)\n",
    "            new_action, log_prob, z, mean, log_std = self.policy_net.evaluate(state)\n",
    "\n",
    "            target_value = self.target_value_net(next_state)\n",
    "            next_q_value = reward + (1 - done) * gamma * target_value\n",
    "            q_value_loss = self.soft_q_criterion(expected_q_value, next_q_value.detach())\n",
    "\n",
    "            expected_new_q_value = self.soft_q_net(state, new_action)\n",
    "            next_value = expected_new_q_value - log_prob\n",
    "            value_loss = self.value_criterion(expected_value, next_value.detach())\n",
    "\n",
    "            log_prob_target = expected_new_q_value - expected_value\n",
    "            policy_loss = (log_prob * (log_prob - log_prob_target).detach()).mean()\n",
    "\n",
    "\n",
    "            mean_loss = mean_lambda * mean.pow(2).mean()\n",
    "            std_loss  = std_lambda  * log_std.pow(2).mean()\n",
    "            z_loss    = z_lambda    * z.pow(2).sum(1).mean()\n",
    "\n",
    "            policy_loss += mean_loss + std_loss + z_loss\n",
    "\n",
    "            self.soft_q_optimizer.zero_grad()\n",
    "            q_value_loss.backward()\n",
    "            self.soft_q_optimizer.step()\n",
    "\n",
    "            self.value_optimizer.zero_grad()\n",
    "            value_loss.backward()\n",
    "            self.value_optimizer.step()\n",
    "\n",
    "            self.policy_optimizer.zero_grad()\n",
    "            policy_loss.backward()\n",
    "            self.policy_optimizer.step()\n",
    "\n",
    "\n",
    "            for target_param, param in zip(self.target_value_net.parameters(), self.value_net.parameters()):\n",
    "                target_param.data.copy_(\n",
    "                    target_param.data * (1.0 - soft_tau) + param.data * soft_tau\n",
    "                )\n",
    "        \n",
    "        "
   ]
  },
  {
   "cell_type": "code",
   "execution_count": 77,
   "metadata": {},
   "outputs": [
    {
     "name": "stdout",
     "output_type": "stream",
     "text": [
      "Episode 100\tEpisode Score:0.1000000015\tMean in window:0.0226000004\n",
      "Episode 200\tEpisode Score:0.1000000015\tMean in window:0.0313000005\n",
      "Episode 300\tEpisode Score:0.0000000000\tMean in window:0.0615000010\n",
      "Episode 400\tEpisode Score:0.1000000015\tMean in window:0.0969000015\n",
      "Episode 500\tEpisode Score:0.0000000000\tMean in window:0.1403000021\n",
      "Episode 600\tEpisode Score:0.1000000015\tMean in window:0.1502000023\n",
      "Episode 700\tEpisode Score:0.1000000015\tMean in window:0.1883000028\n",
      "Episode 800\tEpisode Score:0.1000000015\tMean in window:0.1870000028\n",
      "Episode 900\tEpisode Score:0.2000000030\tMean in window:0.2008000030\n",
      "Episode 1000\tEpisode Score:0.1000000015\tMean in window:0.2915000044\n",
      "Episode 1100\tEpisode Score:0.1000000015\tMean in window:0.3577000054\n",
      "Episode 1200\tEpisode Score:1.8000000268\tMean in window:0.5285000080\n",
      "Episode 1208\tEpisode Score:2.4000000358\tMean in window:0.6043000091\n",
      "Environment solved in 1208 episodes!\tMean in window: 0.6043000091\n"
     ]
    }
   ],
   "source": [
    "agents_number = len(env_info.agents)\n",
    "\n",
    "def squeez(tensor):\n",
    "    return np.array(tensor).reshape(1,-1).squeeze()\n",
    "\n",
    "def MainLoop(max_episodes=4000):\n",
    "    scores_window = deque(maxlen=100)\n",
    "    scores_total = []\n",
    "    agent = Agent(input_size, output_size, 512)\n",
    "    for episode in range(1, max_episodes+1):\n",
    "        env_info = env.reset(train_mode=True)[brain_name]\n",
    "        state = env_info.vector_observations \n",
    "        score = np.zeros(num_agents)\n",
    "        \n",
    "        while True:\n",
    "            actions = agent.act(state)\n",
    "            env_info = env.step(actions)[brain_name]\n",
    "            next_states = env_info.vector_observations\n",
    "            rewards = env_info.rewards \n",
    "            dones = env_info.local_done\n",
    "            # separate update of replay_buffer for each agent:\n",
    "            agent.replay_buffer.push(state[0],actions[0],rewards[0],next_states[0],dones[0])\n",
    "            agent.replay_buffer.push(state[1],actions[1],rewards[1],next_states[1],dones[1])\n",
    "            agent.learning_step()\n",
    "            score += rewards\n",
    "            state = next_states\n",
    "            \n",
    "            if np.any(dones):\n",
    "                break\n",
    "        \n",
    "        score_in_episode = np.max(score)\n",
    "        scores_total.append(score_in_episode)\n",
    "        scores_window.append(score_in_episode)\n",
    "        mean_score = np.mean(scores_window)\n",
    "        \n",
    "        print('\\rEpisode {}\\tEpisode Score:{:.10f}\\tMean in window:{:.10f}'.format(episode,score_in_episode,mean_score), end=\"\")\n",
    "        if episode % 100 == 0:\n",
    "            print('\\rEpisode {}\\tEpisode Score:{:.10f}\\tMean in window:{:.10f}'.format(episode,score_in_episode,mean_score))\n",
    "        if mean_score >=0.6: # for sure\n",
    "            print('\\nEnvironment solved in {} episodes!\\tMean in window: {:.10f}'.format(episode,mean_score))    \n",
    "            break\n",
    "    return agent, scores_window, scores_total\n",
    "        \n",
    "agent, scores_window, scores_total = MainLoop(max_episodes=20000)"
   ]
  },
  {
   "cell_type": "code",
   "execution_count": 79,
   "metadata": {},
   "outputs": [
    {
     "name": "stdout",
     "output_type": "stream",
     "text": [
      "1198\n"
     ]
    },
    {
     "data": {
      "image/png": "[encoded data removed]",
      "text/plain": [
       "<Figure size 432x288 with 1 Axes>"
      ]
     },
     "metadata": {
      "needs_background": "light"
     },
     "output_type": "display_data"
    }
   ],
   "source": [
    "import matplotlib.pyplot as plt\n",
    "\n",
    "plot_score_mean = []\n",
    "plot_score_in_window = []\n",
    "plot_score_in_window_que = deque(maxlen=100)\n",
    "i = 1\n",
    "done_for_sure = False\n",
    "\n",
    "for s in scores_total:\n",
    "    plot_score_mean.append(np.mean(s))\n",
    "    plot_score_in_window_que.append(np.mean(s))\n",
    "    plot_score_in_window.append(np.mean(plot_score_in_window_que))\n",
    "    i += 1\n",
    "    if np.mean(plot_score_in_window_que) > 0.5 and not done_for_sure:\n",
    "        print(i)\n",
    "        done_for_sure = True\n",
    "\n",
    "fig = plt.figure()\n",
    "ax = fig.add_subplot(111)\n",
    "ax.plot(np.arange(len(plot_score_mean)), plot_score_mean, color='b', label='ep mean score')\n",
    "ax.plot(np.arange(len(plot_score_in_window)), plot_score_in_window, color='r', label='ep mean in window score')\n",
    "ax.legend()\n",
    "plt.ylabel('Score')\n",
    "plt.xlabel('Episode')\n",
    "plt.show()"
   ]
  },
  {
   "cell_type": "code",
   "execution_count": 81,
   "metadata": {},
   "outputs": [],
   "source": [
    "# Lets watch how agent plays after learning:\n",
    "\n",
    "env_info = env.reset(train_mode=False)[brain_name]\n",
    "state = env_info.vector_observations \n",
    "score = np.zeros(num_agents)\n",
    "        \n",
    "while True:\n",
    "    actions = agent.act(state)\n",
    "    env_info = env.step(actions)[brain_name]\n",
    "    next_states = env_info.vector_observations\n",
    "    rewards = env_info.rewards \n",
    "    dones = env_info.local_done\n",
    "    score += rewards\n",
    "    state = next_states\n",
    "\n",
    "    if np.any(dones):\n",
    "        break"
   ]
  },
  {
   "cell_type": "code",
   "execution_count": 84,
   "metadata": {},
   "outputs": [],
   "source": [
    "def save_network(agent, path):\n",
    "    agent_state = {\"value_net\":agent.value_net.state_dict(),\n",
    "                 \"target_value_net\":agent.target_value_net.state_dict(),\n",
    "                 \"soft_q_net\":agent.soft_q_net.state_dict(),\n",
    "                 \"policy_net\":agent.policy_net.state_dict()}\n",
    "    torch.save(agent_state, str(path))\n",
    "    \n",
    "save_network(agent, \"Checkpoints/final_agent.pth\")"
   ]
  },
  {
   "cell_type": "code",
   "execution_count": 85,
   "metadata": {},
   "outputs": [],
   "source": [
    "env.close()"
   ]
  }
 ],
 "metadata": {
  "kernelspec": {
   "display_name": "Python 3",
   "language": "python",
   "name": "python3"
  },
  "language_info": {
   "codemirror_mode": {
    "name": "ipython",
    "version": 3
   },
   "file_extension": ".py",
   "mimetype": "text/x-python",
   "name": "python",
   "nbconvert_exporter": "python",
   "pygments_lexer": "ipython3",
   "version": "3.6.10"
  }
 },
 "nbformat": 4,
 "nbformat_minor": 2
}
